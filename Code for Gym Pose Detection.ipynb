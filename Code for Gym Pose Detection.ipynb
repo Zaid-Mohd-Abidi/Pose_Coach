{
 "cells": [
  {
   "cell_type": "code",
   "execution_count": 4,
   "metadata": {
    "collapsed": true
   },
   "outputs": [
    {
     "name": "stdout",
     "output_type": "stream",
     "text": [
      "Requirement already satisfied: mediapipe in /Users/Zaid/opt/anaconda3/lib/python3.9/site-packages (0.9.0.1)\r\n",
      "Requirement already satisfied: opencv-python in /Users/Zaid/opt/anaconda3/lib/python3.9/site-packages (4.6.0.66)\r\n",
      "Requirement already satisfied: matplotlib in /Users/Zaid/opt/anaconda3/lib/python3.9/site-packages (from mediapipe) (3.5.2)\r\n",
      "Requirement already satisfied: protobuf<4,>=3.11 in /Users/Zaid/opt/anaconda3/lib/python3.9/site-packages (from mediapipe) (3.20.3)\r\n",
      "Requirement already satisfied: absl-py in /Users/Zaid/opt/anaconda3/lib/python3.9/site-packages (from mediapipe) (1.3.0)\r\n",
      "Requirement already satisfied: attrs>=19.1.0 in /Users/Zaid/opt/anaconda3/lib/python3.9/site-packages (from mediapipe) (21.4.0)\r\n",
      "Requirement already satisfied: opencv-contrib-python in /Users/Zaid/opt/anaconda3/lib/python3.9/site-packages (from mediapipe) (4.6.0.66)\r\n",
      "Requirement already satisfied: flatbuffers>=2.0 in /Users/Zaid/opt/anaconda3/lib/python3.9/site-packages (from mediapipe) (22.12.6)\r\n",
      "Requirement already satisfied: numpy in /Users/Zaid/opt/anaconda3/lib/python3.9/site-packages (from mediapipe) (1.21.5)\r\n",
      "Requirement already satisfied: fonttools>=4.22.0 in /Users/Zaid/opt/anaconda3/lib/python3.9/site-packages (from matplotlib->mediapipe) (4.25.0)\r\n",
      "Requirement already satisfied: pillow>=6.2.0 in /Users/Zaid/opt/anaconda3/lib/python3.9/site-packages (from matplotlib->mediapipe) (9.2.0)\r\n",
      "Requirement already satisfied: cycler>=0.10 in /Users/Zaid/opt/anaconda3/lib/python3.9/site-packages (from matplotlib->mediapipe) (0.11.0)\r\n",
      "Requirement already satisfied: packaging>=20.0 in /Users/Zaid/opt/anaconda3/lib/python3.9/site-packages (from matplotlib->mediapipe) (21.3)\r\n",
      "Requirement already satisfied: python-dateutil>=2.7 in /Users/Zaid/opt/anaconda3/lib/python3.9/site-packages (from matplotlib->mediapipe) (2.8.2)\r\n",
      "Requirement already satisfied: kiwisolver>=1.0.1 in /Users/Zaid/opt/anaconda3/lib/python3.9/site-packages (from matplotlib->mediapipe) (1.4.2)\r\n",
      "Requirement already satisfied: pyparsing>=2.2.1 in /Users/Zaid/opt/anaconda3/lib/python3.9/site-packages (from matplotlib->mediapipe) (3.0.9)\r\n",
      "Requirement already satisfied: six>=1.5 in /Users/Zaid/opt/anaconda3/lib/python3.9/site-packages (from python-dateutil>=2.7->matplotlib->mediapipe) (1.16.0)\r\n"
     ]
    }
   ],
   "source": [
    "!pip install mediapipe opencv-python\n",
    "import mediapipe as mp\n",
    "import cv2\n",
    "import numpy as np\n",
    "\n",
    "\n"
   ]
  },
  {
   "cell_type": "code",
   "execution_count": 6,
   "outputs": [],
   "source": [
    "\n",
    "\n",
    "def calculate_angle(a, b, c):\n",
    "    a = np.array(a)  #first\n",
    "    b = np.array(b)  #mid\n",
    "    c = np.array(c)  #end\n",
    "\n",
    "    radians = np.arctan2(c[1] - b[1], c[0] - b[0]) - np.arctan2(a[1] - b[1], a[0] - b[0])\n",
    "    angle = np.abs(radians * 180.0 / np.pi)\n",
    "\n",
    "    if angle > 180.0:\n",
    "        angle = 360 - angle\n",
    "    return angle\n",
    "\n"
   ],
   "metadata": {
    "collapsed": false
   }
  },
  {
   "cell_type": "code",
   "execution_count": 7,
   "outputs": [
    {
     "name": "stderr",
     "output_type": "stream",
     "text": [
      "INFO: Created TensorFlow Lite XNNPACK delegate for CPU.\n"
     ]
    },
    {
     "ename": "KeyboardInterrupt",
     "evalue": "",
     "output_type": "error",
     "traceback": [
      "\u001B[0;31m---------------------------------------------------------------------------\u001B[0m",
      "\u001B[0;31mKeyboardInterrupt\u001B[0m                         Traceback (most recent call last)",
      "\u001B[0;32m/var/folders/66/k5gz0n6n7v30520l2h2dln600000gp/T/ipykernel_64500/39597763.py\u001B[0m in \u001B[0;36m<module>\u001B[0;34m\u001B[0m\n\u001B[1;32m     51\u001B[0m         \u001B[0mcv2\u001B[0m\u001B[0;34m.\u001B[0m\u001B[0mimshow\u001B[0m\u001B[0;34m(\u001B[0m\u001B[0;34m'Media Pipe feed'\u001B[0m\u001B[0;34m,\u001B[0m \u001B[0mimage\u001B[0m\u001B[0;34m)\u001B[0m\u001B[0;34m\u001B[0m\u001B[0;34m\u001B[0m\u001B[0m\n\u001B[1;32m     52\u001B[0m \u001B[0;34m\u001B[0m\u001B[0m\n\u001B[0;32m---> 53\u001B[0;31m         \u001B[0;32mif\u001B[0m \u001B[0mcv2\u001B[0m\u001B[0;34m.\u001B[0m\u001B[0mwaitKey\u001B[0m\u001B[0;34m(\u001B[0m\u001B[0;36m10\u001B[0m\u001B[0;34m)\u001B[0m \u001B[0;34m&\u001B[0m \u001B[0;36m0xFF\u001B[0m \u001B[0;34m==\u001B[0m \u001B[0mord\u001B[0m\u001B[0;34m(\u001B[0m\u001B[0;34m'q'\u001B[0m\u001B[0;34m)\u001B[0m\u001B[0;34m:\u001B[0m\u001B[0;34m\u001B[0m\u001B[0;34m\u001B[0m\u001B[0m\n\u001B[0m\u001B[1;32m     54\u001B[0m             \u001B[0;32mbreak\u001B[0m\u001B[0;34m\u001B[0m\u001B[0;34m\u001B[0m\u001B[0m\n\u001B[1;32m     55\u001B[0m     \u001B[0mcap\u001B[0m\u001B[0;34m.\u001B[0m\u001B[0mrelease\u001B[0m\u001B[0;34m(\u001B[0m\u001B[0;34m)\u001B[0m\u001B[0;34m\u001B[0m\u001B[0;34m\u001B[0m\u001B[0m\n",
      "\u001B[0;31mKeyboardInterrupt\u001B[0m: "
     ]
    }
   ],
   "source": [
    "\n",
    "mp_drawing = mp.solutions.drawing_utils\n",
    "mp_pose = mp.solutions.pose\n",
    "cap = cv2.VideoCapture(0)\n",
    "\n",
    "#setting up mediapipe instance\n",
    "with mp_pose.Pose(min_detection_confidence=0.5, min_tracking_confidence=0.5) as pose:\n",
    "    while cap.isOpened():\n",
    "\n",
    "        ret, frame = cap.read()\n",
    "\n",
    "        #recolour image to rgb\n",
    "        image = cv2.cvtColor(frame, cv2.COLOR_BGR2RGB)\n",
    "        image.flags.writeable = False\n",
    "        #make detection\n",
    "        results = pose.process(image)\n",
    "        #recolour image to bgr\n",
    "        image.flags.writeable = True\n",
    "        image = cv2.cvtColor(image, cv2.COLOR_RGB2BGR)\n",
    "\n",
    "        #extract landmarks\n",
    "        try:\n",
    "            landmarks = results.pose_landmarks.landmarks\n",
    "\n",
    "            #get coordinates\n",
    "            shoulder = [landmarks[mp_pose.PoseLandmark.LEFT_SHOULDER.value].x,\n",
    "                        landmarks[mp_pose.PoseLandmark.LEFT_SHOULDER.value].y]\n",
    "            elbow = [landmarks[mp_pose.PoseLandmark.LEFT_ELBOW.value].x,\n",
    "                     landmarks[mp_pose.PoseLandmark.LEFT_ELBOW.value].y]\n",
    "            wrist = [landmarks[mp_pose.PoseLandmark.LEFT_WRIST.value].x,\n",
    "                     landmarks[mp_pose.PoseLandmark.LEFT_WRIST.value].y]\n",
    "\n",
    "            #calculate angle\n",
    "            angle = calculate_angle(shoulder, elbow, wrist)\n",
    "\n",
    "            #visualize\n",
    "            cv2.putText(image, str(angle), tuple(np.multiply(elbow, [640, 480]).astype(int)), cv2.FONT_HERSHEY_SIMPLEX,\n",
    "                        0.5, (255, 255, 255), 2, cv2.LINE_AA)\n",
    "\n",
    "            print(landmarks)\n",
    "\n",
    "        except:\n",
    "            pass\n",
    "\n",
    "        #render detections\n",
    "        mp_drawing.draw_landmarks(image, results.pose_landmarks, mp_pose.POSE_CONNECTIONS,\n",
    "                                  mp_drawing.DrawingSpec(color=(245, 117, 66), thickness=2, circle_radius=2),\n",
    "                                  mp_drawing.DrawingSpec(color=(245, 66, 230), thickness=2, circle_radius=2))\n",
    "\n",
    "        #print(results)\n",
    "\n",
    "        cv2.imshow('Media Pipe feed', image)\n",
    "\n",
    "        if cv2.waitKey(10) & 0xFF == ord('q'):\n",
    "            break\n",
    "    cap.release()\n",
    "    cv2.destroyAllWindows()\n",
    "\n",
    "    print(\"done\")\n",
    "\n"
   ],
   "metadata": {
    "collapsed": false
   }
  },
  {
   "cell_type": "code",
   "execution_count": null,
   "outputs": [],
   "source": [],
   "metadata": {
    "collapsed": false
   }
  }
 ],
 "metadata": {
  "kernelspec": {
   "display_name": "Python 3",
   "language": "python",
   "name": "python3"
  },
  "language_info": {
   "codemirror_mode": {
    "name": "ipython",
    "version": 2
   },
   "file_extension": ".py",
   "mimetype": "text/x-python",
   "name": "python",
   "nbconvert_exporter": "python",
   "pygments_lexer": "ipython2",
   "version": "2.7.6"
  }
 },
 "nbformat": 4,
 "nbformat_minor": 0
}
